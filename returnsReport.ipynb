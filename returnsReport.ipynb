{
 "cells": [
  {
   "cell_type": "markdown",
   "metadata": {},
   "source": [
    "# ANALYSIS OF RETURNS DATA USING RDD"
   ]
  },
  {
   "cell_type": "code",
   "execution_count": 1,
   "metadata": {
    "collapsed": true
   },
   "outputs": [],
   "source": [
    "sc = SparkContext.getOrCreate()"
   ]
  },
  {
   "cell_type": "code",
   "execution_count": 2,
   "metadata": {},
   "outputs": [
    {
     "data": {
      "text/plain": [
       "u'2.1.0'"
      ]
     },
     "execution_count": 2,
     "metadata": {},
     "output_type": "execute_result"
    }
   ],
   "source": [
    "sc.version"
   ]
  },
  {
   "cell_type": "markdown",
   "metadata": {},
   "source": [
    "Using RDD APIs, we will explore the following steps:\n",
    "\n",
    "    Reading text files\n",
    "    Parse records and associate with a schema\n",
    "    Filtering of records\n",
    "    Grouping of records\n",
    "    Sorting by key and values\n",
    "    Applying map and reduce functions\n",
    "    Caching RDDs\n",
    "    Applying groupByKey() and mapValues() functions\n",
    "    Collecting data into driver\n",
    "    Joining RDDs\n",
    "    Saving RDDs into files\n",
    "    Using Broadcast variables\n",
    "    Using Accumulators\n"
   ]
  },
  {
   "cell_type": "code",
   "execution_count": 3,
   "metadata": {},
   "outputs": [
    {
     "data": {
      "text/plain": [
       "'2.7'"
      ]
     },
     "execution_count": 3,
     "metadata": {},
     "output_type": "execute_result"
    }
   ],
   "source": [
    "sc.pythonVer"
   ]
  },
  {
   "cell_type": "code",
   "execution_count": 30,
   "metadata": {
    "collapsed": true
   },
   "outputs": [],
   "source": [
    "returns_list = sc.textFile(\"file:///home/vijay/BPF/data/RETURN1.csv\")"
   ]
  },
  {
   "cell_type": "code",
   "execution_count": 31,
   "metadata": {},
   "outputs": [
    {
     "data": {
      "text/plain": [
       "[u'6797,01/07/2016,56390275,1,2,10,8.33,RED WINE AUSTRALIAN,W42JE,GONE OFF',\n",
       " u'6797,01/07/2016,56390275,1,2,10,8.33,W42GBBM2 RED AUSTRALIA,W42GB,GONE OFF']"
      ]
     },
     "execution_count": 31,
     "metadata": {},
     "output_type": "execute_result"
    }
   ],
   "source": [
    "returns_list.take(2)"
   ]
  },
  {
   "cell_type": "code",
   "execution_count": 32,
   "metadata": {
    "collapsed": true
   },
   "outputs": [],
   "source": [
    "#returns_list = returns_list.map(lambda x: x.encode(\"ascii\", \"ignore\").split(','))"
   ]
  },
  {
   "cell_type": "code",
   "execution_count": 33,
   "metadata": {},
   "outputs": [
    {
     "data": {
      "text/plain": [
       "[u'6797,01/07/2016,56390275,1,2,10,8.33,RED WINE AUSTRALIAN,W42JE,GONE OFF',\n",
       " u'6797,01/07/2016,56390275,1,2,10,8.33,W42GBBM2 RED AUSTRALIA,W42GB,GONE OFF',\n",
       " u'6797,01/07/2016,56390275,1,2,10,8.33,BMI RED AUSTRALIA,W42DB,GONE OFF',\n",
       " u'6797,01/07/2016,56390275,1,2,10,8.33,BM2 RED AUSTRALIA,W42GB,GONE OFF',\n",
       " u'2800,02/07/2016,73939529,3,1,9,7.5,CHAMPAGNE,W47DA,BROKEN INSIDE',\n",
       " u'3063,02/07/2016,53489550,3,2,10,8.33,W42GBBM2 RED AUSTRALIA,W42GB,BROKEN INSIDE',\n",
       " u'3063,02/07/2016,53489550,3,2,10,8.33,BMI RED AUSTRALIA,W42DB,BROKEN INSIDE',\n",
       " u'3063,02/07/2016,53489550,3,2,10,8.33,BM2 RED AUSTRALIA,W42GB,BROKEN INSIDE',\n",
       " u'3063,02/07/2016,53489550,3,2,10,8.33,RED WINE AUSTRALIAN,W42JE,BROKEN INSIDE',\n",
       " u'3063,02/07/2016,51926365,3,1,5.5,4.58,WHITE WINE AUSTRALIAN,W43JE,BROKEN INSIDE',\n",
       " u'3063,02/07/2016,51926365,3,1,5.5,4.58,W43GBBM2 WHITE AUSTRALIA,W43GB,BROKEN INSIDE',\n",
       " u'3063,02/07/2016,51926365,3,1,5.5,4.58,BM2 WHITE AUSTRALIA,W43GB,BROKEN INSIDE',\n",
       " u'3429,02/07/2016,81091764,3,1,6,5,WHITE WINE NEW ZEALAND,W43JG,BROKEN INSIDE',\n",
       " u'3429,02/07/2016,79606534,3,1,2.5,2.08,FINEST MEAL DEAL WINES,W42EM,BROKEN INSIDE',\n",
       " u'3429,02/07/2016,79606534,3,1,2.5,2.08,OL BULK RED SPAIN,W42EM,BROKEN INSIDE',\n",
       " u'3429,02/07/2016,50620359,1,1,5,4.17,BMI RED AUSTRALIA,W42DB,GONE OFF',\n",
       " u'3429,02/07/2016,50620359,1,1,5,4.17,BM2 RED AUSTRALIA,W42GB,GONE OFF',\n",
       " u'3429,02/07/2016,50620359,1,1,5,4.17,W42GBBM2 RED AUSTRALIA,W42GB,GONE OFF',\n",
       " u'3429,02/07/2016,50620359,1,1,5,4.17,RED WINE AUSTRALIAN,W42JE,GONE OFF',\n",
       " u'6797,02/07/2016,60298391,3,2,12,10,FIN UPMKT RED ITALY,W42BF,BROKEN INSIDE',\n",
       " u'6797,02/07/2016,60298391,3,2,12,10,W42BFFIN UPMKT RED ITALY,W42BF,BROKEN INSIDE',\n",
       " u'6797,02/07/2016,60298391,3,2,12,10,RED WINE ITALIAN,W42AD,BROKEN INSIDE',\n",
       " u'6797,02/07/2016,51926745,3,2,11,9.17,BM2 RED AUSTRALIA,W42GB,BROKEN INSIDE',\n",
       " u'6797,02/07/2016,51926745,3,2,11,9.17,RED WINE AUSTRALIAN,W42JE,BROKEN INSIDE',\n",
       " u'6797,02/07/2016,51926745,3,2,11,9.17,W42GBBM2 RED AUSTRALIA,W42GB,BROKEN INSIDE']"
      ]
     },
     "execution_count": 33,
     "metadata": {},
     "output_type": "execute_result"
    }
   ],
   "source": [
    "returns_list.take(25)"
   ]
  },
  {
   "cell_type": "code",
   "execution_count": 34,
   "metadata": {
    "collapsed": true
   },
   "outputs": [],
   "source": [
    "supplier_list = sc.textFile(\"file:///home/vijay/BPF/data/SUPPLIER1.csv\" )"
   ]
  },
  {
   "cell_type": "code",
   "execution_count": 35,
   "metadata": {},
   "outputs": [
    {
     "data": {
      "text/plain": [
       "[u' ARGENTINA#0A,2800,63896749', u' ARGENTINA#0A,2800,68024093']"
      ]
     },
     "execution_count": 35,
     "metadata": {},
     "output_type": "execute_result"
    }
   ],
   "source": [
    "supplier_list.take(2)"
   ]
  },
  {
   "cell_type": "code",
   "execution_count": 36,
   "metadata": {},
   "outputs": [
    {
     "data": {
      "text/plain": [
       "list"
      ]
     },
     "execution_count": 36,
     "metadata": {},
     "output_type": "execute_result"
    }
   ],
   "source": [
    "type(supplier_list.take(2))"
   ]
  },
  {
   "cell_type": "code",
   "execution_count": 37,
   "metadata": {},
   "outputs": [
    {
     "data": {
      "text/plain": [
       "pyspark.rdd.RDD"
      ]
     },
     "execution_count": 37,
     "metadata": {},
     "output_type": "execute_result"
    }
   ],
   "source": [
    "type(supplier_list)"
   ]
  },
  {
   "cell_type": "code",
   "execution_count": 38,
   "metadata": {},
   "outputs": [
    {
     "data": {
      "text/plain": [
       "4514"
      ]
     },
     "execution_count": 38,
     "metadata": {},
     "output_type": "execute_result"
    }
   ],
   "source": [
    "returns_list.count()"
   ]
  },
  {
   "cell_type": "code",
   "execution_count": 39,
   "metadata": {
    "collapsed": true
   },
   "outputs": [],
   "source": [
    "returns_fields = ['LOCATION','CALENDAR_DATE','BASE_PRODUCT_NUMBER','TXN_TYPE','RETURN_SNGL','RETURN_VALUE','RETURN_VALUE_XVAT','PRODUCT_SUB_GROUP_DESCRIPTION','PRODUCT_SUB_GROUP_CODE','REASON'\n",
    "]"
   ]
  },
  {
   "cell_type": "code",
   "execution_count": 40,
   "metadata": {
    "collapsed": true
   },
   "outputs": [],
   "source": [
    "from collections import namedtuple"
   ]
  },
  {
   "cell_type": "code",
   "execution_count": 41,
   "metadata": {
    "collapsed": true
   },
   "outputs": [],
   "source": [
    "returns_rows = namedtuple('returns_rows',returns_fields)"
   ]
  },
  {
   "cell_type": "code",
   "execution_count": 42,
   "metadata": {},
   "outputs": [
    {
     "data": {
      "text/plain": [
       "collections.returns_rows"
      ]
     },
     "execution_count": 42,
     "metadata": {},
     "output_type": "execute_result"
    }
   ],
   "source": [
    "returns_rows"
   ]
  },
  {
   "cell_type": "code",
   "execution_count": 43,
   "metadata": {
    "collapsed": true
   },
   "outputs": [],
   "source": [
    "from datetime import datetime"
   ]
  },
  {
   "cell_type": "code",
   "execution_count": 44,
   "metadata": {},
   "outputs": [
    {
     "data": {
      "text/plain": [
       "datetime.date(2010, 5, 24)"
      ]
     },
     "execution_count": 44,
     "metadata": {},
     "output_type": "execute_result"
    }
   ],
   "source": [
    "datetime.strptime(\"24052010\", \"%d%m%Y\").date()"
   ]
  },
  {
   "cell_type": "code",
   "execution_count": 86,
   "metadata": {
    "collapsed": true
   },
   "outputs": [],
   "source": [
    "# Define a function to parse each line and convert them into records\n",
    "def parseRec(line):\n",
    "    columns = line.split(\",\")\n",
    "    return returns_rows(int(columns[0]),str(columns[1]),int(columns[2]),int(columns[3]),int(columns[4]),float(columns[5]),float(columns[6]),columns[7],\n",
    "                          columns[8],columns[9])"
   ]
  },
  {
   "cell_type": "code",
   "execution_count": 87,
   "metadata": {
    "collapsed": true
   },
   "outputs": [],
   "source": [
    "returns_rdd = returns_list.map(lambda rec: parseRec(rec))"
   ]
  },
  {
   "cell_type": "code",
   "execution_count": 88,
   "metadata": {},
   "outputs": [
    {
     "data": {
      "text/plain": [
       "[u'6797,01/07/2016,56390275,1,2,10,8.33,RED WINE AUSTRALIAN,W42JE,GONE OFF',\n",
       " u'6797,01/07/2016,56390275,1,2,10,8.33,W42GBBM2 RED AUSTRALIA,W42GB,GONE OFF']"
      ]
     },
     "execution_count": 88,
     "metadata": {},
     "output_type": "execute_result"
    }
   ],
   "source": [
    "returns_list.take(2)"
   ]
  },
  {
   "cell_type": "code",
   "execution_count": 89,
   "metadata": {},
   "outputs": [
    {
     "data": {
      "text/plain": [
       "[returns_rows(LOCATION=6797, CALENDAR_DATE='01/07/2016', BASE_PRODUCT_NUMBER=56390275, TXN_TYPE=1, RETURN_SNGL=2, RETURN_VALUE=10.0, RETURN_VALUE_XVAT=8.33, PRODUCT_SUB_GROUP_DESCRIPTION=u'RED WINE AUSTRALIAN', PRODUCT_SUB_GROUP_CODE=u'W42JE', REASON=u'GONE OFF'),\n",
       " returns_rows(LOCATION=6797, CALENDAR_DATE='01/07/2016', BASE_PRODUCT_NUMBER=56390275, TXN_TYPE=1, RETURN_SNGL=2, RETURN_VALUE=10.0, RETURN_VALUE_XVAT=8.33, PRODUCT_SUB_GROUP_DESCRIPTION=u'W42GBBM2 RED AUSTRALIA', PRODUCT_SUB_GROUP_CODE=u'W42GB', REASON=u'GONE OFF'),\n",
       " returns_rows(LOCATION=6797, CALENDAR_DATE='01/07/2016', BASE_PRODUCT_NUMBER=56390275, TXN_TYPE=1, RETURN_SNGL=2, RETURN_VALUE=10.0, RETURN_VALUE_XVAT=8.33, PRODUCT_SUB_GROUP_DESCRIPTION=u'BMI RED AUSTRALIA', PRODUCT_SUB_GROUP_CODE=u'W42DB', REASON=u'GONE OFF'),\n",
       " returns_rows(LOCATION=6797, CALENDAR_DATE='01/07/2016', BASE_PRODUCT_NUMBER=56390275, TXN_TYPE=1, RETURN_SNGL=2, RETURN_VALUE=10.0, RETURN_VALUE_XVAT=8.33, PRODUCT_SUB_GROUP_DESCRIPTION=u'BM2 RED AUSTRALIA', PRODUCT_SUB_GROUP_CODE=u'W42GB', REASON=u'GONE OFF'),\n",
       " returns_rows(LOCATION=2800, CALENDAR_DATE='02/07/2016', BASE_PRODUCT_NUMBER=73939529, TXN_TYPE=3, RETURN_SNGL=1, RETURN_VALUE=9.0, RETURN_VALUE_XVAT=7.5, PRODUCT_SUB_GROUP_DESCRIPTION=u'CHAMPAGNE', PRODUCT_SUB_GROUP_CODE=u'W47DA', REASON=u'BROKEN INSIDE')]"
      ]
     },
     "execution_count": 89,
     "metadata": {},
     "output_type": "execute_result"
    }
   ],
   "source": [
    "returns_rdd.take(5)"
   ]
  },
  {
   "cell_type": "code",
   "execution_count": 162,
   "metadata": {
    "collapsed": true
   },
   "outputs": [],
   "source": [
    "#help(namedtuple) #similar to structs"
   ]
  },
  {
   "cell_type": "code",
   "execution_count": 50,
   "metadata": {},
   "outputs": [
    {
     "data": {
      "text/plain": [
       "pyspark.rdd.PipelinedRDD"
      ]
     },
     "execution_count": 50,
     "metadata": {},
     "output_type": "execute_result"
    }
   ],
   "source": [
    "type(returns_rdd)"
   ]
  },
  {
   "cell_type": "code",
   "execution_count": 51,
   "metadata": {
    "collapsed": true
   },
   "outputs": [],
   "source": [
    "ret_10_OrMore_rdd = returns_rdd.filter(lambda rec: rec.RETURN_SNGL > 40)"
   ]
  },
  {
   "cell_type": "code",
   "execution_count": 52,
   "metadata": {},
   "outputs": [
    {
     "data": {
      "text/plain": [
       "5"
      ]
     },
     "execution_count": 52,
     "metadata": {},
     "output_type": "execute_result"
    }
   ],
   "source": [
    "ret_10_OrMore_rdd.count()"
   ]
  },
  {
   "cell_type": "code",
   "execution_count": 53,
   "metadata": {},
   "outputs": [
    {
     "data": {
      "text/plain": [
       "[returns_rows(LOCATION=u'2800', CALENDAR_DATE=u'11/07/2016', BASE_PRODUCT_NUMBER=u'66557421', TXN_TYPE=u'3', RETURN_SNGL=45, RETURN_VALUE=247.5, RETURN_VALUE_XVAT=206.25, PRODUCT_SUB_GROUP_DESCRIPTION=u'W45ADAB ROSE', PRODUCT_SUB_GROUP_CODE=u'W45AD', REASON=u'BROKEN INSIDE'),\n",
       " returns_rows(LOCATION=u'2800', CALENDAR_DATE=u'11/07/2016', BASE_PRODUCT_NUMBER=u'66557421', TXN_TYPE=u'3', RETURN_SNGL=45, RETURN_VALUE=247.5, RETURN_VALUE_XVAT=206.25, PRODUCT_SUB_GROUP_DESCRIPTION=u'ROSE WINE', PRODUCT_SUB_GROUP_CODE=u'W45AE', REASON=u'BROKEN INSIDE'),\n",
       " returns_rows(LOCATION=u'2800', CALENDAR_DATE=u'11/07/2016', BASE_PRODUCT_NUMBER=u'66557421', TXN_TYPE=u'3', RETURN_SNGL=45, RETURN_VALUE=247.5, RETURN_VALUE_XVAT=206.25, PRODUCT_SUB_GROUP_DESCRIPTION=u'AB ROSE', PRODUCT_SUB_GROUP_CODE=u'W45AD', REASON=u'BROKEN INSIDE'),\n",
       " returns_rows(LOCATION=u'2800', CALENDAR_DATE=u'11/07/2016', BASE_PRODUCT_NUMBER=u'66557421', TXN_TYPE=u'3', RETURN_SNGL=45, RETURN_VALUE=247.5, RETURN_VALUE_XVAT=206.25, PRODUCT_SUB_GROUP_DESCRIPTION=u'BM1 ROSE', PRODUCT_SUB_GROUP_CODE=u'W45AB', REASON=u'BROKEN INSIDE'),\n",
       " returns_rows(LOCATION=u'3063', CALENDAR_DATE=u'29/11/2016', BASE_PRODUCT_NUMBER=u'73939529', TXN_TYPE=u'3', RETURN_SNGL=54, RETURN_VALUE=437.4, RETURN_VALUE_XVAT=364.5, PRODUCT_SUB_GROUP_DESCRIPTION=u'CHAMPAGNE', PRODUCT_SUB_GROUP_CODE=u'W47DA', REASON=u'BROKEN INSIDE')]"
      ]
     },
     "execution_count": 53,
     "metadata": {},
     "output_type": "execute_result"
    }
   ],
   "source": [
    "ret_10_OrMore_rdd.take(6)"
   ]
  },
  {
   "cell_type": "code",
   "execution_count": 220,
   "metadata": {},
   "outputs": [
    {
     "data": {
      "text/plain": [
       "[('a', [1, 1]), ('b', [1])]"
      ]
     },
     "execution_count": 220,
     "metadata": {},
     "output_type": "execute_result"
    }
   ],
   "source": [
    "x = sc.parallelize([(\"a\", 1), (\"b\", 1), (\"a\", 1)])\n",
    "map((lambda (x,y): (x, list(y))), sorted(x.groupByKey().collect()))"
   ]
  },
  {
   "cell_type": "code",
   "execution_count": 221,
   "metadata": {
    "collapsed": true
   },
   "outputs": [],
   "source": [
    "x = sc.parallelize([(\"a\", [\"x\", \"y\", \"z\"]), (\"b\", [\"p\", \"r\"])])\n",
    "#def fun(x): return x"
   ]
  },
  {
   "cell_type": "code",
   "execution_count": 222,
   "metadata": {},
   "outputs": [
    {
     "data": {
      "text/plain": [
       "[('a', 'x'), ('a', 'y'), ('a', 'z'), ('b', 'p'), ('b', 'r')]"
      ]
     },
     "execution_count": 222,
     "metadata": {},
     "output_type": "execute_result"
    }
   ],
   "source": [
    "x.flatMapValues(f).collect()"
   ]
  },
  {
   "cell_type": "code",
   "execution_count": 223,
   "metadata": {},
   "outputs": [
    {
     "data": {
      "text/plain": [
       "[('a', ([5], [1], [2], [])), ('b', ([6], [4], [], [42]))]"
      ]
     },
     "execution_count": 223,
     "metadata": {},
     "output_type": "execute_result"
    }
   ],
   "source": [
    "w = sc.parallelize([(\"a\", 5), (\"b\", 6)])\n",
    "x = sc.parallelize([(\"a\", 1), (\"b\", 4)])\n",
    "y = sc.parallelize([(\"a\", 2)])\n",
    "z = sc.parallelize([(\"b\", 42)])\n",
    "map((lambda (x,y): (x, (list(y[0]), list(y[1]), list(y[2]), list(y[3])))), \n",
    "    sorted(list(w.groupWith(x, y, z).collect())))"
   ]
  },
  {
   "cell_type": "code",
   "execution_count": 224,
   "metadata": {
    "collapsed": true
   },
   "outputs": [],
   "source": [
    "rdd = sc.parallelize([1, 2, 3, 4], 2)"
   ]
  },
  {
   "cell_type": "code",
   "execution_count": 228,
   "metadata": {},
   "outputs": [
    {
     "data": {
      "text/plain": [
       "[1, 2, 3, 4]"
      ]
     },
     "execution_count": 228,
     "metadata": {},
     "output_type": "execute_result"
    }
   ],
   "source": [
    "rdd.collect()"
   ]
  },
  {
   "cell_type": "code",
   "execution_count": 225,
   "metadata": {
    "collapsed": true
   },
   "outputs": [],
   "source": [
    "def funsum(iterator): yield sum(iterator)"
   ]
  },
  {
   "cell_type": "code",
   "execution_count": 227,
   "metadata": {},
   "outputs": [
    {
     "data": {
      "text/plain": [
       "[3, 7]"
      ]
     },
     "execution_count": 227,
     "metadata": {},
     "output_type": "execute_result"
    }
   ],
   "source": [
    "rdd.mapPartitions(funsum).collect()"
   ]
  },
  {
   "cell_type": "code",
   "execution_count": 229,
   "metadata": {},
   "outputs": [
    {
     "data": {
      "text/plain": [
       "2"
      ]
     },
     "execution_count": 229,
     "metadata": {},
     "output_type": "execute_result"
    }
   ],
   "source": [
    "rdd.getNumPartitions()"
   ]
  },
  {
   "cell_type": "code",
   "execution_count": 230,
   "metadata": {},
   "outputs": [
    {
     "data": {
      "text/plain": [
       "[2, 4]"
      ]
     },
     "execution_count": 230,
     "metadata": {},
     "output_type": "execute_result"
    }
   ],
   "source": [
    "rdd = sc.parallelize([1, 2, 3, 4, 5])\n",
    "rdd.filter(lambda x: x % 2 == 0).collect()"
   ]
  },
  {
   "cell_type": "code",
   "execution_count": 231,
   "metadata": {},
   "outputs": [
    {
     "data": {
      "text/plain": [
       "[1, 2, 3]"
      ]
     },
     "execution_count": 231,
     "metadata": {},
     "output_type": "execute_result"
    }
   ],
   "source": [
    "sorted(sc.parallelize([1, 1, 2, 3]).distinct().collect())"
   ]
  },
  {
   "cell_type": "code",
   "execution_count": 234,
   "metadata": {},
   "outputs": [
    {
     "data": {
      "text/plain": [
       "[(2, [1, 1]), (4, [2]), (6, [3]), (10, [5]), (16, [8])]"
      ]
     },
     "execution_count": 234,
     "metadata": {},
     "output_type": "execute_result"
    }
   ],
   "source": [
    "rdd = sc.parallelize([1, 1, 2, 3, 5, 8])\n",
    "result = rdd.groupBy(lambda x: x + x).collect()\n",
    "sorted([(x, sorted(y)) for (x, y) in result])"
   ]
  },
  {
   "cell_type": "code",
   "execution_count": 235,
   "metadata": {
    "collapsed": true
   },
   "outputs": [],
   "source": [
    "#https://spark.apache.org/docs/1.1.1/api/python/pyspark.rdd.RDD-class.html#sum"
   ]
  },
  {
   "cell_type": "markdown",
   "metadata": {},
   "source": [
    "RDD Creation\n",
    "\n",
    "In this section, we will introduce two different ways of getting data into the basic Spark data structure, the Resilient Distributed Dataset or RDD. An RDD is a distributed collection of elements. All work in Spark is expressed as either creating new RDDs, transforming existing RDDs, or calling actions on RDDs to compute a result.Spark automatically distributes the data contained in RDDs across your cluster and parallelizes the operations you perform on them."
   ]
  },
  {
   "cell_type": "code",
   "execution_count": 236,
   "metadata": {
    "collapsed": true
   },
   "outputs": [],
   "source": [
    "# RDD Basic Operations"
   ]
  },
  {
   "cell_type": "markdown",
   "metadata": {},
   "source": [
    "This section will introduce three basic but essential Spark operations.\n",
    "Two of them are the transformations map and filter. The other is the action collect.\n",
    "At the same time we will introduce the concept of persistence in Spark"
   ]
  },
  {
   "cell_type": "code",
   "execution_count": 29,
   "metadata": {},
   "outputs": [
    {
     "ename": "NameError",
     "evalue": "name 'returns_rdd' is not defined",
     "output_type": "error",
     "traceback": [
      "\u001b[0;31m---------------------------------------------------------------------------\u001b[0m",
      "\u001b[0;31mNameError\u001b[0m                                 Traceback (most recent call last)",
      "\u001b[0;32m<ipython-input-29-d226790c2abc>\u001b[0m in \u001b[0;36m<module>\u001b[0;34m()\u001b[0m\n\u001b[0;32m----> 1\u001b[0;31m \u001b[0mret_10_OrMore_rdd\u001b[0m \u001b[0;34m=\u001b[0m \u001b[0mreturns_rdd\u001b[0m\u001b[0;34m.\u001b[0m\u001b[0mfilter\u001b[0m\u001b[0;34m(\u001b[0m\u001b[0;32mlambda\u001b[0m \u001b[0mrec\u001b[0m\u001b[0;34m:\u001b[0m \u001b[0mrec\u001b[0m\u001b[0;34m.\u001b[0m\u001b[0mRETURN_SNGL\u001b[0m \u001b[0;34m>\u001b[0m \u001b[0;36m40\u001b[0m\u001b[0;34m)\u001b[0m\u001b[0;34m\u001b[0m\u001b[0m\n\u001b[0m",
      "\u001b[0;31mNameError\u001b[0m: name 'returns_rdd' is not defined"
     ]
    }
   ],
   "source": [
    "ret_10_OrMore_rdd = returns_rdd.filter(lambda rec: rec.RETURN_SNGL > 40)"
   ]
  },
  {
   "cell_type": "code",
   "execution_count": 240,
   "metadata": {},
   "outputs": [
    {
     "name": "stdout",
     "output_type": "stream",
     "text": [
      "There are 5 'more than 40 returned singles\n",
      "Count completed in 0.329 seconds\n"
     ]
    }
   ],
   "source": [
    "from time import time\n",
    "t0 = time()\n",
    "normal_count = ret_10_OrMore_rdd.count()\n",
    "tt = time() - t0\n",
    "print \"There are {} 'more than 40 returned singles\".format(normal_count)\n",
    "print \"Count completed in {} seconds\".format(round(tt,3))"
   ]
  },
  {
   "cell_type": "code",
   "execution_count": 241,
   "metadata": {
    "collapsed": true
   },
   "outputs": [],
   "source": [
    "#By using the map transformation in Spark, we can apply a function to every element in our RDD"
   ]
  },
  {
   "cell_type": "code",
   "execution_count": 249,
   "metadata": {},
   "outputs": [
    {
     "name": "stdout",
     "output_type": "stream",
     "text": [
      "Parse completed in 0.123 seconds\n",
      "[u'6797',\n",
      " u'01/07/2016',\n",
      " u'56390275',\n",
      " u'1',\n",
      " u'2',\n",
      " u'10',\n",
      " u'8.33',\n",
      " u'RED WINE AUSTRALIAN',\n",
      " u'W42JE',\n",
      " u'GONE OFF']\n"
     ]
    }
   ],
   "source": [
    "from pprint import pprint\n",
    "csv_data = returns_list.map(lambda x: x.split(\",\"))\n",
    "t0 = time()\n",
    "head_rows = csv_data.take(1)\n",
    "tt = time() - t0\n",
    "print \"Parse completed in {} seconds\".format(round(tt,3))\n",
    "pprint(head_rows[0])"
   ]
  },
  {
   "cell_type": "code",
   "execution_count": 288,
   "metadata": {
    "collapsed": true
   },
   "outputs": [],
   "source": [
    "#Using map with Predefined Functions\n",
    "def parse_Line(line):\n",
    "    elem = line.split(\",\")\n",
    "    tag = elem[2]  # these are useful when doing count\n",
    "    return (tag,elem)"
   ]
  },
  {
   "cell_type": "code",
   "execution_count": 289,
   "metadata": {},
   "outputs": [
    {
     "name": "stdout",
     "output_type": "stream",
     "text": [
      "(u'56390275',\n",
      " [u'6797',\n",
      "  u'01/07/2016',\n",
      "  u'56390275',\n",
      "  u'1',\n",
      "  u'2',\n",
      "  u'10',\n",
      "  u'8.33',\n",
      "  u'RED WINE AUSTRALIAN',\n",
      "  u'W42JE',\n",
      "  u'GONE OFF'])\n"
     ]
    }
   ],
   "source": [
    "key_csv_data = returns_list.map(parse_Line)\n",
    "head_rows = key_csv_data.take(1)\n",
    "pprint(head_rows[0])"
   ]
  },
  {
   "cell_type": "code",
   "execution_count": 304,
   "metadata": {},
   "outputs": [
    {
     "data": {
      "text/plain": [
       "[(u'56390275',\n",
       "  [u'6797',\n",
       "   u'01/07/2016',\n",
       "   u'56390275',\n",
       "   u'1',\n",
       "   u'2',\n",
       "   u'10',\n",
       "   u'8.33',\n",
       "   u'RED WINE AUSTRALIAN',\n",
       "   u'W42JE',\n",
       "   u'GONE OFF'])]"
      ]
     },
     "execution_count": 304,
     "metadata": {},
     "output_type": "execute_result"
    }
   ],
   "source": [
    "head_rows"
   ]
  },
  {
   "cell_type": "markdown",
   "metadata": {},
   "source": [
    " The collect Action\n",
    "\n",
    "So far we have used the actions count and take. Another basic action we need to learn is collect.\n",
    "Basically it will get all the elements in the RDD into memory for us to work with them. For this \n",
    "reason it has to be used with care, specially when working with large RDDs"
   ]
  },
  {
   "cell_type": "code",
   "execution_count": 305,
   "metadata": {},
   "outputs": [
    {
     "name": "stdout",
     "output_type": "stream",
     "text": [
      "Data collected in 0.201 seconds\n"
     ]
    }
   ],
   "source": [
    "t0 = time()\n",
    "all_raw_data = returns_list.collect()\n",
    "tt = time() - t0\n",
    "print \"Data collected in {} seconds\".format(round(tt,3))"
   ]
  },
  {
   "cell_type": "code",
   "execution_count": 306,
   "metadata": {},
   "outputs": [
    {
     "name": "stdout",
     "output_type": "stream",
     "text": [
      "Data collected in 0.21 seconds\n"
     ]
    }
   ],
   "source": [
    "t0 = time()\n",
    "all_raw_data = returns_list.take(50000)\n",
    "tt = time() - t0\n",
    "print \"Data collected in {} seconds\".format(round(tt,3))"
   ]
  },
  {
   "cell_type": "markdown",
   "metadata": {},
   "source": [
    "# CONVERT RDD TO DF  USING STRUCT FIELDS"
   ]
  },
  {
   "cell_type": "code",
   "execution_count": null,
   "metadata": {
    "collapsed": true
   },
   "outputs": [],
   "source": []
  },
  {
   "cell_type": "code",
   "execution_count": 1,
   "metadata": {},
   "outputs": [],
   "source": [
    "import sys\n",
    "from pyspark import SparkContext, SparkConf\n",
    "from pyspark.sql import SQLContext, HiveContext\n",
    "import os\n",
    "from pyspark.sql.functions import *\n",
    "import pyspark.storagelevel \n",
    "import numpy as np\n",
    "import pandas as pd\n",
    "import datetime\n",
    "from pyspark.sql.functions import *\n",
    "from pyspark.sql.types import *\n",
    "import pdb\n",
    "import subprocess # Used for executing linux commands, for writing to teradata\n",
    "import sys\n",
    "\n",
    "from pyspark.sql.types import *\n",
    "from pyspark.sql.functions import col, udf, min, max\n",
    "from datetime import datetime, timedelta\n",
    "\n",
    "sqlContext = SQLContext(sc)\n",
    "sqlContext = HiveContext(sc)"
   ]
  },
  {
   "cell_type": "code",
   "execution_count": 4,
   "metadata": {
    "collapsed": true
   },
   "outputs": [],
   "source": [
    "returns_list = sc.textFile(\"file:///home/vijay/BPF/data/RETURN1.csv\")"
   ]
  },
  {
   "cell_type": "code",
   "execution_count": 14,
   "metadata": {},
   "outputs": [
    {
     "data": {
      "text/plain": [
       "[u'6797,01/07/2016,56390275,1,2,10,8.33,RED WINE AUSTRALIAN,W42JE,GONE OFF',\n",
       " u'6797,01/07/2016,56390275,1,2,10,8.33,W42GBBM2 RED AUSTRALIA,W42GB,GONE OFF',\n",
       " u'6797,01/07/2016,56390275,1,2,10,8.33,BMI RED AUSTRALIA,W42DB,GONE OFF']"
      ]
     },
     "execution_count": 14,
     "metadata": {},
     "output_type": "execute_result"
    }
   ],
   "source": [
    "returns_list.take(3)"
   ]
  },
  {
   "cell_type": "code",
   "execution_count": 162,
   "metadata": {
    "collapsed": true
   },
   "outputs": [],
   "source": [
    "nws_schema = StructType([StructField(\"LOCATION\",IntegerType(),True),\n",
    "                         StructField(\"CALENDAR_DATE\",DateType(),True),\n",
    "                         StructField(\"BASE_PRODUCT_NUMBER\",IntegerType(),True),\n",
    "                         StructField(\"TXN_TYPE\",DoubleType(),True),\n",
    "                         StructField(\"RETURN_SNGL\",DoubleType(),True),\n",
    "                         StructField(\"RETURN_VALUE\",DoubleType(),True),\n",
    "                         StructField(\"RETURN_VALUE_XVAT\",DoubleType(),True),\n",
    "                         StructField(\"PRODUCT_SUB_GROUP_DESCRIPTION\",StringType(),True),\n",
    "                         StructField(\"PRODUCT_SUB_GROUP_CODE\",StringType(),True),                                                                    \n",
    "                         StructField(\"REASON\",StringType(),True)])\n"
   ]
  },
  {
   "cell_type": "code",
   "execution_count": 163,
   "metadata": {},
   "outputs": [],
   "source": [
    "returns_df = sqlContext.createDataFrame(returns_rdd,nws_schema)"
   ]
  },
  {
   "cell_type": "code",
   "execution_count": 164,
   "metadata": {},
   "outputs": [
    {
     "name": "stdout",
     "output_type": "stream",
     "text": [
      "+--------+-------------+-------------------+--------+-----------+------------+-----------------+-----------------------------+----------------------+--------+\n",
      "|LOCATION|CALENDAR_DATE|BASE_PRODUCT_NUMBER|TXN_TYPE|RETURN_SNGL|RETURN_VALUE|RETURN_VALUE_XVAT|PRODUCT_SUB_GROUP_DESCRIPTION|PRODUCT_SUB_GROUP_CODE|  REASON|\n",
      "+--------+-------------+-------------------+--------+-----------+------------+-----------------+-----------------------------+----------------------+--------+\n",
      "|    6797|   2016-01-07|           56390275|     1.0|        2.0|        10.0|             8.33|          RED WINE AUSTRALIAN|                 W42JE|GONE OFF|\n",
      "|    6797|   2016-01-07|           56390275|     1.0|        2.0|        10.0|             8.33|         W42GBBM2 RED AUST...|                 W42GB|GONE OFF|\n",
      "+--------+-------------+-------------------+--------+-----------+------------+-----------------+-----------------------------+----------------------+--------+\n",
      "only showing top 2 rows\n",
      "\n"
     ]
    }
   ],
   "source": [
    "returns_df.show(2)"
   ]
  },
  {
   "cell_type": "code",
   "execution_count": 183,
   "metadata": {},
   "outputs": [
    {
     "data": {
      "text/plain": [
       "[returns_rows(LOCATION=6797, CALENDAR_DATE=datetime.datetime(2016, 1, 7, 0, 0), BASE_PRODUCT_NUMBER=56390275, TXN_TYPE=1.0, RETURN_SNGL=2.0, RETURN_VALUE=10.0, RETURN_VALUE_XVAT=8.33, PRODUCT_SUB_GROUP_DESCRIPTION='RED WINE AUSTRALIAN', PRODUCT_SUB_GROUP_CODE='W42JE', REASON='GONE OFF'),\n",
       " returns_rows(LOCATION=6797, CALENDAR_DATE=datetime.datetime(2016, 1, 7, 0, 0), BASE_PRODUCT_NUMBER=56390275, TXN_TYPE=1.0, RETURN_SNGL=2.0, RETURN_VALUE=10.0, RETURN_VALUE_XVAT=8.33, PRODUCT_SUB_GROUP_DESCRIPTION='W42GBBM2 RED AUSTRALIA', PRODUCT_SUB_GROUP_CODE='W42GB', REASON='GONE OFF'),\n",
       " returns_rows(LOCATION=6797, CALENDAR_DATE=datetime.datetime(2016, 1, 7, 0, 0), BASE_PRODUCT_NUMBER=56390275, TXN_TYPE=1.0, RETURN_SNGL=2.0, RETURN_VALUE=10.0, RETURN_VALUE_XVAT=8.33, PRODUCT_SUB_GROUP_DESCRIPTION='BMI RED AUSTRALIA', PRODUCT_SUB_GROUP_CODE='W42DB', REASON='GONE OFF')]"
      ]
     },
     "execution_count": 183,
     "metadata": {},
     "output_type": "execute_result"
    }
   ],
   "source": [
    "returns_rdd.take(3)"
   ]
  },
  {
   "cell_type": "code",
   "execution_count": 130,
   "metadata": {
    "collapsed": true
   },
   "outputs": [],
   "source": [
    "import datetime\n",
    "# Define a function to parse each line and convert them into records\n",
    "def parseRec(line):\n",
    "    columns = line.split(\",\")\n",
    "    return returns_rows(int(columns[0]),str(columns[1]),int(columns[2]),int(columns[3]),int(columns[4]),float(columns[5]),float(columns[6]),columns[7],\n",
    "                          columns[8],columns[9])"
   ]
  },
  {
   "cell_type": "code",
   "execution_count": 131,
   "metadata": {
    "collapsed": true
   },
   "outputs": [],
   "source": [
    "returns_rdd = returns_list.map(lambda rec: parseRec(rec))"
   ]
  },
  {
   "cell_type": "code",
   "execution_count": 132,
   "metadata": {},
   "outputs": [
    {
     "data": {
      "text/plain": [
       "[returns_rows(LOCATION=6797, CALENDAR_DATE='01/07/2016', BASE_PRODUCT_NUMBER=56390275, TXN_TYPE=1, RETURN_SNGL=2, RETURN_VALUE=10.0, RETURN_VALUE_XVAT=8.33, PRODUCT_SUB_GROUP_DESCRIPTION=u'RED WINE AUSTRALIAN', PRODUCT_SUB_GROUP_CODE=u'W42JE', REASON=u'GONE OFF'),\n",
       " returns_rows(LOCATION=6797, CALENDAR_DATE='01/07/2016', BASE_PRODUCT_NUMBER=56390275, TXN_TYPE=1, RETURN_SNGL=2, RETURN_VALUE=10.0, RETURN_VALUE_XVAT=8.33, PRODUCT_SUB_GROUP_DESCRIPTION=u'W42GBBM2 RED AUSTRALIA', PRODUCT_SUB_GROUP_CODE=u'W42GB', REASON=u'GONE OFF')]"
      ]
     },
     "execution_count": 132,
     "metadata": {},
     "output_type": "execute_result"
    }
   ],
   "source": [
    "returns_rdd.take(2)"
   ]
  },
  {
   "cell_type": "markdown",
   "metadata": {},
   "source": [
    "# TAKE 2 : bringing all that works together\n",
    "1) Parsing method returns data or RDD of specific type values\n",
    "\n",
    "2) Used structType to enforce schema and create df\n",
    "\n",
    "\n",
    "THIS WOULD BE VERY EASY WITH DATABRICKS CSV READER"
   ]
  },
  {
   "cell_type": "code",
   "execution_count": 14,
   "metadata": {
    "collapsed": true
   },
   "outputs": [],
   "source": [
    "import sys\n",
    "from pyspark import SparkContext, SparkConf\n",
    "from pyspark.sql import SQLContext, HiveContext\n",
    "import os\n",
    "from pyspark.sql.functions import *\n",
    "import pyspark.storagelevel \n",
    "import numpy as np\n",
    "import pandas as pd\n",
    "import datetime\n",
    "from pyspark.sql.functions import *\n",
    "from pyspark.sql.types import *\n",
    "import pdb\n",
    "import subprocess # Used for executing linux commands, for writing to teradata\n",
    "import sys\n",
    "\n",
    "from pyspark.sql.types import *\n",
    "from pyspark.sql.functions import col, udf, min, max\n",
    "from datetime import datetime, timedelta\n",
    "\n",
    "sqlContext = SQLContext(sc)\n",
    "sqlContext = HiveContext(sc)"
   ]
  },
  {
   "cell_type": "code",
   "execution_count": 15,
   "metadata": {},
   "outputs": [
    {
     "data": {
      "text/plain": [
       "4514"
      ]
     },
     "execution_count": 15,
     "metadata": {},
     "output_type": "execute_result"
    }
   ],
   "source": [
    "returns_rdd1 = sc.textFile(\"file:///home/vijay/BPF/data/RETURN1.csv\")\n",
    "returns_rdd1.count()"
   ]
  },
  {
   "cell_type": "code",
   "execution_count": 16,
   "metadata": {},
   "outputs": [
    {
     "data": {
      "text/plain": [
       "[u'6797,01/07/2016,56390275,1,2,10,8.33,RED WINE AUSTRALIAN,W42JE,GONE OFF',\n",
       " u'6797,01/07/2016,56390275,1,2,10,8.33,W42GBBM2 RED AUSTRALIA,W42GB,GONE OFF']"
      ]
     },
     "execution_count": 16,
     "metadata": {},
     "output_type": "execute_result"
    }
   ],
   "source": [
    "returns_rdd1.take(2)"
   ]
  },
  {
   "cell_type": "code",
   "execution_count": 17,
   "metadata": {},
   "outputs": [
    {
     "data": {
      "text/plain": [
       "collections.returns_rows"
      ]
     },
     "execution_count": 17,
     "metadata": {},
     "output_type": "execute_result"
    }
   ],
   "source": [
    "from collections import namedtuple\n",
    "returns_fields = ['LOCATION','CALENDAR_DATE','BASE_PRODUCT_NUMBER','TXN_TYPE','RETURN_SNGL','RETURN_VALUE','RETURN_VALUE_XVAT','PRODUCT_SUB_GROUP_DESCRIPTION','PRODUCT_SUB_GROUP_CODE','REASON'\n",
    "]\n",
    "returns_rows = namedtuple('returns_rows',returns_fields)\n",
    "returns_rows #can access field names on this"
   ]
  },
  {
   "cell_type": "code",
   "execution_count": 18,
   "metadata": {},
   "outputs": [],
   "source": [
    "import datetime\n",
    "from datetime import datetime\n",
    "from pyspark.sql.functions import col, udf\n",
    "from pyspark.sql.types import DateType\n",
    "# Define a function to parse each line and convert them into records\n",
    "def parseRec(line):\n",
    "    columns = line.split(\",\")\n",
    "    return returns_rows(int(columns[0]),datetime.strptime((columns[1]), '%m/%d/%Y'),int(columns[2]),float(columns[3]),float(columns[4]),float(columns[5]),float(columns[6]),str(columns[7]),\n",
    "                          str(columns[8]),str(columns[9]))"
   ]
  },
  {
   "cell_type": "code",
   "execution_count": 19,
   "metadata": {
    "collapsed": true
   },
   "outputs": [],
   "source": [
    "returns_rdd = returns_rdd1.map(lambda rec: parseRec(rec))"
   ]
  },
  {
   "cell_type": "code",
   "execution_count": 20,
   "metadata": {},
   "outputs": [
    {
     "data": {
      "text/plain": [
       "[returns_rows(LOCATION=6797, CALENDAR_DATE=datetime.datetime(2016, 1, 7, 0, 0), BASE_PRODUCT_NUMBER=56390275, TXN_TYPE=1.0, RETURN_SNGL=2.0, RETURN_VALUE=10.0, RETURN_VALUE_XVAT=8.33, PRODUCT_SUB_GROUP_DESCRIPTION='RED WINE AUSTRALIAN', PRODUCT_SUB_GROUP_CODE='W42JE', REASON='GONE OFF'),\n",
       " returns_rows(LOCATION=6797, CALENDAR_DATE=datetime.datetime(2016, 1, 7, 0, 0), BASE_PRODUCT_NUMBER=56390275, TXN_TYPE=1.0, RETURN_SNGL=2.0, RETURN_VALUE=10.0, RETURN_VALUE_XVAT=8.33, PRODUCT_SUB_GROUP_DESCRIPTION='W42GBBM2 RED AUSTRALIA', PRODUCT_SUB_GROUP_CODE='W42GB', REASON='GONE OFF')]"
      ]
     },
     "execution_count": 20,
     "metadata": {},
     "output_type": "execute_result"
    }
   ],
   "source": [
    "returns_rdd.take(2)"
   ]
  },
  {
   "cell_type": "code",
   "execution_count": 21,
   "metadata": {},
   "outputs": [],
   "source": [
    "ret_schema = StructType([StructField(\"LOCATION\",IntegerType(),True),\n",
    "                         StructField(\"CALENDAR_DATE\",DateType(),True),\n",
    "                         StructField(\"BASE_PRODUCT_NUMBER\",IntegerType(),True),\n",
    "                         StructField(\"TXN_TYPE\",DoubleType(),True),\n",
    "                         StructField(\"RETURN_SNGL\",DoubleType(),True),\n",
    "                         StructField(\"RETURN_VALUE\",DoubleType(),True),\n",
    "                         StructField(\"RETURN_VALUE_XVAT\",DoubleType(),True),\n",
    "                         StructField(\"PRODUCT_SUB_GROUP_DESCRIPTION\",StringType(),True),\n",
    "                         StructField(\"PRODUCT_SUB_GROUP_CODE\",StringType(),True),                                                                    \n",
    "                         StructField(\"REASON\",StringType(),True)])"
   ]
  },
  {
   "cell_type": "markdown",
   "metadata": {},
   "source": [
    "# Create a data frame"
   ]
  },
  {
   "cell_type": "code",
   "execution_count": 22,
   "metadata": {},
   "outputs": [],
   "source": [
    "returns_df = sqlContext.createDataFrame(returns_rdd,ret_schema)"
   ]
  },
  {
   "cell_type": "code",
   "execution_count": 23,
   "metadata": {},
   "outputs": [
    {
     "name": "stdout",
     "output_type": "stream",
     "text": [
      "+--------+-------------+-------------------+--------+-----------+------------+-----------------+-----------------------------+----------------------+--------+\n",
      "|LOCATION|CALENDAR_DATE|BASE_PRODUCT_NUMBER|TXN_TYPE|RETURN_SNGL|RETURN_VALUE|RETURN_VALUE_XVAT|PRODUCT_SUB_GROUP_DESCRIPTION|PRODUCT_SUB_GROUP_CODE|  REASON|\n",
      "+--------+-------------+-------------------+--------+-----------+------------+-----------------+-----------------------------+----------------------+--------+\n",
      "|    6797|   2016-01-07|           56390275|     1.0|        2.0|        10.0|             8.33|          RED WINE AUSTRALIAN|                 W42JE|GONE OFF|\n",
      "|    6797|   2016-01-07|           56390275|     1.0|        2.0|        10.0|             8.33|         W42GBBM2 RED AUST...|                 W42GB|GONE OFF|\n",
      "|    6797|   2016-01-07|           56390275|     1.0|        2.0|        10.0|             8.33|            BMI RED AUSTRALIA|                 W42DB|GONE OFF|\n",
      "+--------+-------------+-------------------+--------+-----------+------------+-----------------+-----------------------------+----------------------+--------+\n",
      "only showing top 3 rows\n",
      "\n"
     ]
    }
   ],
   "source": [
    "returns_df.show(3)"
   ]
  },
  {
   "cell_type": "code",
   "execution_count": 25,
   "metadata": {},
   "outputs": [
    {
     "name": "stdout",
     "output_type": "stream",
     "text": [
      "root\n",
      " |-- LOCATION: integer (nullable = true)\n",
      " |-- CALENDAR_DATE: date (nullable = true)\n",
      " |-- BASE_PRODUCT_NUMBER: integer (nullable = true)\n",
      " |-- TXN_TYPE: double (nullable = true)\n",
      " |-- RETURN_SNGL: double (nullable = true)\n",
      " |-- RETURN_VALUE: double (nullable = true)\n",
      " |-- RETURN_VALUE_XVAT: double (nullable = true)\n",
      " |-- PRODUCT_SUB_GROUP_DESCRIPTION: string (nullable = true)\n",
      " |-- PRODUCT_SUB_GROUP_CODE: string (nullable = true)\n",
      " |-- REASON: string (nullable = true)\n",
      "\n"
     ]
    }
   ],
   "source": [
    "returns_df.printSchema()"
   ]
  },
  {
   "cell_type": "code",
   "execution_count": null,
   "metadata": {
    "collapsed": true
   },
   "outputs": [],
   "source": []
  }
 ],
 "metadata": {
  "kernelspec": {
   "display_name": "Python 2",
   "language": "python",
   "name": "python2"
  },
  "language_info": {
   "codemirror_mode": {
    "name": "ipython",
    "version": 2
   },
   "file_extension": ".py",
   "mimetype": "text/x-python",
   "name": "python",
   "nbconvert_exporter": "python",
   "pygments_lexer": "ipython2",
   "version": "2.7.13"
  }
 },
 "nbformat": 4,
 "nbformat_minor": 2
}
